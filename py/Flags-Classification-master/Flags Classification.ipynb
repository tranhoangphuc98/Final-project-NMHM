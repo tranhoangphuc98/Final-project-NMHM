{
 "cells": [
  {
   "cell_type": "code",
   "execution_count": 1,
   "metadata": {},
   "outputs": [],
   "source": [
    "import numpy as np \n",
    "import pandas as pd \n",
    "%matplotlib inline\n",
    "import matplotlib.pyplot as plt\n",
    "import seaborn as sns\n",
    "color = sns.color_palette()\n",
    "sns.set_style('darkgrid')\n",
    "import warnings\n",
    "def ignore_warn(*args, **kwargs):\n",
    "    pass\n",
    "warnings.warn = ignore_warn #ignore annoying warning (from sklearn and seaborn)\n",
    "\n",
    "pd.set_option('display.float_format', lambda x: '{:.3f}'.format(x)) #Limiting floats output to 3 decimal points"
   ]
  },
  {
   "cell_type": "code",
   "execution_count": 2,
   "metadata": {},
   "outputs": [],
   "source": [
    "def flags_info():\n",
    "    ''' \n",
    "1. Title: Flag database\n",
    "\n",
    "2. Source Information\n",
    "   -- Creators: Collected primarily from the \"Collins Gem Guide to Flags\":\n",
    "      Collins Publishers (1986).\n",
    "   -- Donor: Richard S. Forsyth \n",
    "             8 Grosvenor Avenue\n",
    "             Mapperley Park\n",
    "             Nottingham NG3 5DX\n",
    "             0602-621676\n",
    "   -- Date: 5/15/1990\n",
    "\n",
    "3. Past Usage:\n",
    "   -- None known other than what is shown in Forsyth's PC/BEAGLE User's Guide.\n",
    "\n",
    "4. Relevant Information:\n",
    "   -- This data file contains details of various nations and their flags.\n",
    "      In this file the fields are separated by spaces (not commas).  With\n",
    "      this data you can try things like predicting the religion of a country\n",
    "      from its size and the colours in its flag.  \n",
    "   -- 10 attributes are numeric-valued.  The remainder are either Boolean-\n",
    "      or nominal-valued.\n",
    "\n",
    "5. Number of Instances: 194\n",
    "\n",
    "6. Number of attributes: 30 (overall)\n",
    "\n",
    "7. Attribute Information:\n",
    "   1. name\tName of the country concerned\n",
    "   2. landmass\t1=N.America, 2=S.America, 3=Europe, 4=Africa, 5=Asia, 6=Oceania\n",
    "   3. zone\tGeographic quadrant, based on Greenwich and the Equator\n",
    "                1=NE, 2=SE, 3=SW, 4=NW\n",
    "   4. area\tin thousands of square km\n",
    "   5. population\tin round millions\n",
    "   6. language 1=English, 2=Spanish, 3=French, 4=German, 5=Slavic, 6=Other \n",
    "               Indo-European, 7=Chinese, 8=Arabic, \n",
    "               9=Japanese/Turkish/Finnish/Magyar, 10=Others\n",
    "   7. religion 0=Catholic, 1=Other Christian, 2=Muslim, 3=Buddhist, 4=Hindu,\n",
    "               5=Ethnic, 6=Marxist, 7=Others\n",
    "   8. bars     Number of vertical bars in the flag\n",
    "   9. stripes  Number of horizontal stripes in the flag\n",
    "  10. colours  Number of different colours in the flag\n",
    "  11. red      0 if red absent, 1 if red present in the flag\n",
    "  12. green    same for green\n",
    "  13. blue     same for blue\n",
    "  14. gold     same for gold (also yellow)\n",
    "  15. white    same for white\n",
    "  16. black    same for black\n",
    "  17. orange   same for orange (also brown)\n",
    "  18. mainhue  predominant colour in the flag (tie-breaks decided by taking\n",
    "               the topmost hue, if that fails then the most central hue,\n",
    "               and if that fails the leftmost hue)\n",
    "  19. circles  Number of circles in the flag\n",
    "  20. crosses  Number of (upright) crosses\n",
    "  21. saltires Number of diagonal crosses\n",
    "  22. quarters Number of quartered sections\n",
    "  23. sunstars Number of sun or star symbols\n",
    "  24. crescent 1 if a crescent moon symbol present, else 0\n",
    "  25. triangle 1 if any triangles present, 0 otherwise\n",
    "  26. icon     1 if an inanimate image present (e.g., a boat), otherwise 0\n",
    "  27. animate  1 if an animate image (e.g., an eagle, a tree, a human hand)\n",
    "               present, 0 otherwise\n",
    "  28. text     1 if any letters or writing on the flag (e.g., a motto or\n",
    "               slogan), 0 otherwise\n",
    "  29. topleft  colour in the top-left corner (moving right to decide \n",
    "               tie-breaks)\n",
    "  30. botright Colour in the bottom-left corner (moving left to decide \n",
    "               tie-breaks)\n",
    "\n",
    "8. Missing values: None\n",
    "'''"
   ]
  },
  {
   "cell_type": "code",
   "execution_count": 3,
   "metadata": {},
   "outputs": [
    {
     "name": "stdout",
     "output_type": "stream",
     "text": [
      "Help on function flags_info in module __main__:\n",
      "\n",
      "flags_info()\n",
      "    1. Title: Flag database\n",
      "    \n",
      "    2. Source Information\n",
      "       -- Creators: Collected primarily from the \"Collins Gem Guide to Flags\":\n",
      "          Collins Publishers (1986).\n",
      "       -- Donor: Richard S. Forsyth \n",
      "                 8 Grosvenor Avenue\n",
      "                 Mapperley Park\n",
      "                 Nottingham NG3 5DX\n",
      "                 0602-621676\n",
      "       -- Date: 5/15/1990\n",
      "    \n",
      "    3. Past Usage:\n",
      "       -- None known other than what is shown in Forsyth's PC/BEAGLE User's Guide.\n",
      "    \n",
      "    4. Relevant Information:\n",
      "       -- This data file contains details of various nations and their flags.\n",
      "          In this file the fields are separated by spaces (not commas).  With\n",
      "          this data you can try things like predicting the religion of a country\n",
      "          from its size and the colours in its flag.  \n",
      "       -- 10 attributes are numeric-valued.  The remainder are either Boolean-\n",
      "          or nominal-valued.\n",
      "    \n",
      "    5. Number of Instances: 194\n",
      "    \n",
      "    6. Number of attributes: 30 (overall)\n",
      "    \n",
      "    7. Attribute Information:\n",
      "       1. name      Name of the country concerned\n",
      "       2. landmass  1=N.America, 2=S.America, 3=Europe, 4=Africa, 5=Asia, 6=Oceania\n",
      "       3. zone      Geographic quadrant, based on Greenwich and the Equator\n",
      "                    1=NE, 2=SE, 3=SW, 4=NW\n",
      "       4. area      in thousands of square km\n",
      "       5. population        in round millions\n",
      "       6. language 1=English, 2=Spanish, 3=French, 4=German, 5=Slavic, 6=Other \n",
      "                   Indo-European, 7=Chinese, 8=Arabic, \n",
      "                   9=Japanese/Turkish/Finnish/Magyar, 10=Others\n",
      "       7. religion 0=Catholic, 1=Other Christian, 2=Muslim, 3=Buddhist, 4=Hindu,\n",
      "                   5=Ethnic, 6=Marxist, 7=Others\n",
      "       8. bars     Number of vertical bars in the flag\n",
      "       9. stripes  Number of horizontal stripes in the flag\n",
      "      10. colours  Number of different colours in the flag\n",
      "      11. red      0 if red absent, 1 if red present in the flag\n",
      "      12. green    same for green\n",
      "      13. blue     same for blue\n",
      "      14. gold     same for gold (also yellow)\n",
      "      15. white    same for white\n",
      "      16. black    same for black\n",
      "      17. orange   same for orange (also brown)\n",
      "      18. mainhue  predominant colour in the flag (tie-breaks decided by taking\n",
      "                   the topmost hue, if that fails then the most central hue,\n",
      "                   and if that fails the leftmost hue)\n",
      "      19. circles  Number of circles in the flag\n",
      "      20. crosses  Number of (upright) crosses\n",
      "      21. saltires Number of diagonal crosses\n",
      "      22. quarters Number of quartered sections\n",
      "      23. sunstars Number of sun or star symbols\n",
      "      24. crescent 1 if a crescent moon symbol present, else 0\n",
      "      25. triangle 1 if any triangles present, 0 otherwise\n",
      "      26. icon     1 if an inanimate image present (e.g., a boat), otherwise 0\n",
      "      27. animate  1 if an animate image (e.g., an eagle, a tree, a human hand)\n",
      "                   present, 0 otherwise\n",
      "      28. text     1 if any letters or writing on the flag (e.g., a motto or\n",
      "                   slogan), 0 otherwise\n",
      "      29. topleft  colour in the top-left corner (moving right to decide \n",
      "                   tie-breaks)\n",
      "      30. botright Colour in the bottom-left corner (moving left to decide \n",
      "                   tie-breaks)\n",
      "    \n",
      "    8. Missing values: None\n",
      "\n"
     ]
    }
   ],
   "source": [
    "help(flags_info)"
   ]
  },
  {
   "cell_type": "code",
   "execution_count": 4,
   "metadata": {},
   "outputs": [
    {
     "data": {
      "text/html": [
       "<div>\n",
       "<style scoped>\n",
       "    .dataframe tbody tr th:only-of-type {\n",
       "        vertical-align: middle;\n",
       "    }\n",
       "\n",
       "    .dataframe tbody tr th {\n",
       "        vertical-align: top;\n",
       "    }\n",
       "\n",
       "    .dataframe thead th {\n",
       "        text-align: right;\n",
       "    }\n",
       "</style>\n",
       "<table border=\"1\" class=\"dataframe\">\n",
       "  <thead>\n",
       "    <tr style=\"text-align: right;\">\n",
       "      <th></th>\n",
       "      <th>name</th>\n",
       "      <th>landmass</th>\n",
       "      <th>zone</th>\n",
       "      <th>area</th>\n",
       "      <th>population</th>\n",
       "      <th>language</th>\n",
       "      <th>religion</th>\n",
       "      <th>bars</th>\n",
       "      <th>stripes</th>\n",
       "      <th>colours</th>\n",
       "      <th>...</th>\n",
       "      <th>saltires</th>\n",
       "      <th>quarters</th>\n",
       "      <th>sunstars</th>\n",
       "      <th>crescent</th>\n",
       "      <th>triangle</th>\n",
       "      <th>icon</th>\n",
       "      <th>animate</th>\n",
       "      <th>text</th>\n",
       "      <th>topleft</th>\n",
       "      <th>botright</th>\n",
       "    </tr>\n",
       "  </thead>\n",
       "  <tbody>\n",
       "    <tr>\n",
       "      <th>0</th>\n",
       "      <td>Afghanistan</td>\n",
       "      <td>5</td>\n",
       "      <td>1</td>\n",
       "      <td>648</td>\n",
       "      <td>16</td>\n",
       "      <td>10</td>\n",
       "      <td>2</td>\n",
       "      <td>0</td>\n",
       "      <td>3</td>\n",
       "      <td>5</td>\n",
       "      <td>...</td>\n",
       "      <td>0</td>\n",
       "      <td>0</td>\n",
       "      <td>1</td>\n",
       "      <td>0</td>\n",
       "      <td>0</td>\n",
       "      <td>1</td>\n",
       "      <td>0</td>\n",
       "      <td>0</td>\n",
       "      <td>black</td>\n",
       "      <td>green</td>\n",
       "    </tr>\n",
       "    <tr>\n",
       "      <th>1</th>\n",
       "      <td>Albania</td>\n",
       "      <td>3</td>\n",
       "      <td>1</td>\n",
       "      <td>29</td>\n",
       "      <td>3</td>\n",
       "      <td>6</td>\n",
       "      <td>6</td>\n",
       "      <td>0</td>\n",
       "      <td>0</td>\n",
       "      <td>3</td>\n",
       "      <td>...</td>\n",
       "      <td>0</td>\n",
       "      <td>0</td>\n",
       "      <td>1</td>\n",
       "      <td>0</td>\n",
       "      <td>0</td>\n",
       "      <td>0</td>\n",
       "      <td>1</td>\n",
       "      <td>0</td>\n",
       "      <td>red</td>\n",
       "      <td>red</td>\n",
       "    </tr>\n",
       "    <tr>\n",
       "      <th>2</th>\n",
       "      <td>Algeria</td>\n",
       "      <td>4</td>\n",
       "      <td>1</td>\n",
       "      <td>2388</td>\n",
       "      <td>20</td>\n",
       "      <td>8</td>\n",
       "      <td>2</td>\n",
       "      <td>2</td>\n",
       "      <td>0</td>\n",
       "      <td>3</td>\n",
       "      <td>...</td>\n",
       "      <td>0</td>\n",
       "      <td>0</td>\n",
       "      <td>1</td>\n",
       "      <td>1</td>\n",
       "      <td>0</td>\n",
       "      <td>0</td>\n",
       "      <td>0</td>\n",
       "      <td>0</td>\n",
       "      <td>green</td>\n",
       "      <td>white</td>\n",
       "    </tr>\n",
       "    <tr>\n",
       "      <th>3</th>\n",
       "      <td>American-Samoa</td>\n",
       "      <td>6</td>\n",
       "      <td>3</td>\n",
       "      <td>0</td>\n",
       "      <td>0</td>\n",
       "      <td>1</td>\n",
       "      <td>1</td>\n",
       "      <td>0</td>\n",
       "      <td>0</td>\n",
       "      <td>5</td>\n",
       "      <td>...</td>\n",
       "      <td>0</td>\n",
       "      <td>0</td>\n",
       "      <td>0</td>\n",
       "      <td>0</td>\n",
       "      <td>1</td>\n",
       "      <td>1</td>\n",
       "      <td>1</td>\n",
       "      <td>0</td>\n",
       "      <td>blue</td>\n",
       "      <td>red</td>\n",
       "    </tr>\n",
       "    <tr>\n",
       "      <th>4</th>\n",
       "      <td>Andorra</td>\n",
       "      <td>3</td>\n",
       "      <td>1</td>\n",
       "      <td>0</td>\n",
       "      <td>0</td>\n",
       "      <td>6</td>\n",
       "      <td>0</td>\n",
       "      <td>3</td>\n",
       "      <td>0</td>\n",
       "      <td>3</td>\n",
       "      <td>...</td>\n",
       "      <td>0</td>\n",
       "      <td>0</td>\n",
       "      <td>0</td>\n",
       "      <td>0</td>\n",
       "      <td>0</td>\n",
       "      <td>0</td>\n",
       "      <td>0</td>\n",
       "      <td>0</td>\n",
       "      <td>blue</td>\n",
       "      <td>red</td>\n",
       "    </tr>\n",
       "    <tr>\n",
       "      <th>5</th>\n",
       "      <td>Angola</td>\n",
       "      <td>4</td>\n",
       "      <td>2</td>\n",
       "      <td>1247</td>\n",
       "      <td>7</td>\n",
       "      <td>10</td>\n",
       "      <td>5</td>\n",
       "      <td>0</td>\n",
       "      <td>2</td>\n",
       "      <td>3</td>\n",
       "      <td>...</td>\n",
       "      <td>0</td>\n",
       "      <td>0</td>\n",
       "      <td>1</td>\n",
       "      <td>0</td>\n",
       "      <td>0</td>\n",
       "      <td>1</td>\n",
       "      <td>0</td>\n",
       "      <td>0</td>\n",
       "      <td>red</td>\n",
       "      <td>black</td>\n",
       "    </tr>\n",
       "    <tr>\n",
       "      <th>6</th>\n",
       "      <td>Anguilla</td>\n",
       "      <td>1</td>\n",
       "      <td>4</td>\n",
       "      <td>0</td>\n",
       "      <td>0</td>\n",
       "      <td>1</td>\n",
       "      <td>1</td>\n",
       "      <td>0</td>\n",
       "      <td>1</td>\n",
       "      <td>3</td>\n",
       "      <td>...</td>\n",
       "      <td>0</td>\n",
       "      <td>0</td>\n",
       "      <td>0</td>\n",
       "      <td>0</td>\n",
       "      <td>0</td>\n",
       "      <td>0</td>\n",
       "      <td>1</td>\n",
       "      <td>0</td>\n",
       "      <td>white</td>\n",
       "      <td>blue</td>\n",
       "    </tr>\n",
       "    <tr>\n",
       "      <th>7</th>\n",
       "      <td>Antigua-Barbuda</td>\n",
       "      <td>1</td>\n",
       "      <td>4</td>\n",
       "      <td>0</td>\n",
       "      <td>0</td>\n",
       "      <td>1</td>\n",
       "      <td>1</td>\n",
       "      <td>0</td>\n",
       "      <td>1</td>\n",
       "      <td>5</td>\n",
       "      <td>...</td>\n",
       "      <td>0</td>\n",
       "      <td>0</td>\n",
       "      <td>1</td>\n",
       "      <td>0</td>\n",
       "      <td>1</td>\n",
       "      <td>0</td>\n",
       "      <td>0</td>\n",
       "      <td>0</td>\n",
       "      <td>black</td>\n",
       "      <td>red</td>\n",
       "    </tr>\n",
       "    <tr>\n",
       "      <th>8</th>\n",
       "      <td>Argentina</td>\n",
       "      <td>2</td>\n",
       "      <td>3</td>\n",
       "      <td>2777</td>\n",
       "      <td>28</td>\n",
       "      <td>2</td>\n",
       "      <td>0</td>\n",
       "      <td>0</td>\n",
       "      <td>3</td>\n",
       "      <td>2</td>\n",
       "      <td>...</td>\n",
       "      <td>0</td>\n",
       "      <td>0</td>\n",
       "      <td>0</td>\n",
       "      <td>0</td>\n",
       "      <td>0</td>\n",
       "      <td>0</td>\n",
       "      <td>0</td>\n",
       "      <td>0</td>\n",
       "      <td>blue</td>\n",
       "      <td>blue</td>\n",
       "    </tr>\n",
       "    <tr>\n",
       "      <th>9</th>\n",
       "      <td>Argentine</td>\n",
       "      <td>2</td>\n",
       "      <td>3</td>\n",
       "      <td>2777</td>\n",
       "      <td>28</td>\n",
       "      <td>2</td>\n",
       "      <td>0</td>\n",
       "      <td>0</td>\n",
       "      <td>3</td>\n",
       "      <td>3</td>\n",
       "      <td>...</td>\n",
       "      <td>0</td>\n",
       "      <td>0</td>\n",
       "      <td>1</td>\n",
       "      <td>0</td>\n",
       "      <td>0</td>\n",
       "      <td>0</td>\n",
       "      <td>0</td>\n",
       "      <td>0</td>\n",
       "      <td>blue</td>\n",
       "      <td>blue</td>\n",
       "    </tr>\n",
       "  </tbody>\n",
       "</table>\n",
       "<p>10 rows × 30 columns</p>\n",
       "</div>"
      ],
      "text/plain": [
       "              name  landmass  zone  area  population  language  religion  \\\n",
       "0      Afghanistan         5     1   648          16        10         2   \n",
       "1          Albania         3     1    29           3         6         6   \n",
       "2          Algeria         4     1  2388          20         8         2   \n",
       "3   American-Samoa         6     3     0           0         1         1   \n",
       "4          Andorra         3     1     0           0         6         0   \n",
       "5           Angola         4     2  1247           7        10         5   \n",
       "6         Anguilla         1     4     0           0         1         1   \n",
       "7  Antigua-Barbuda         1     4     0           0         1         1   \n",
       "8        Argentina         2     3  2777          28         2         0   \n",
       "9        Argentine         2     3  2777          28         2         0   \n",
       "\n",
       "   bars  stripes  colours  ...  saltires  quarters  sunstars  crescent  \\\n",
       "0     0        3        5  ...         0         0         1         0   \n",
       "1     0        0        3  ...         0         0         1         0   \n",
       "2     2        0        3  ...         0         0         1         1   \n",
       "3     0        0        5  ...         0         0         0         0   \n",
       "4     3        0        3  ...         0         0         0         0   \n",
       "5     0        2        3  ...         0         0         1         0   \n",
       "6     0        1        3  ...         0         0         0         0   \n",
       "7     0        1        5  ...         0         0         1         0   \n",
       "8     0        3        2  ...         0         0         0         0   \n",
       "9     0        3        3  ...         0         0         1         0   \n",
       "\n",
       "   triangle  icon  animate text  topleft  botright  \n",
       "0         0     1        0    0    black     green  \n",
       "1         0     0        1    0      red       red  \n",
       "2         0     0        0    0    green     white  \n",
       "3         1     1        1    0     blue       red  \n",
       "4         0     0        0    0     blue       red  \n",
       "5         0     1        0    0      red     black  \n",
       "6         0     0        1    0    white      blue  \n",
       "7         1     0        0    0    black       red  \n",
       "8         0     0        0    0     blue      blue  \n",
       "9         0     0        0    0     blue      blue  \n",
       "\n",
       "[10 rows x 30 columns]"
      ]
     },
     "execution_count": 4,
     "metadata": {},
     "output_type": "execute_result"
    }
   ],
   "source": [
    "flags = pd.read_csv('Data/flag.csv')\n",
    "\n",
    "flags.head(10)"
   ]
  },
  {
   "cell_type": "code",
   "execution_count": 5,
   "metadata": {},
   "outputs": [
    {
     "data": {
      "text/plain": [
       "(194, 30)"
      ]
     },
     "execution_count": 5,
     "metadata": {},
     "output_type": "execute_result"
    }
   ],
   "source": [
    "flags.shape"
   ]
  },
  {
   "cell_type": "code",
   "execution_count": 6,
   "metadata": {},
   "outputs": [
    {
     "name": "stdout",
     "output_type": "stream",
     "text": [
      "<class 'pandas.core.frame.DataFrame'>\n",
      "RangeIndex: 194 entries, 0 to 193\n",
      "Data columns (total 30 columns):\n",
      "name          194 non-null object\n",
      "landmass      194 non-null int64\n",
      "zone          194 non-null int64\n",
      "area          194 non-null int64\n",
      "population    194 non-null int64\n",
      "language      194 non-null int64\n",
      "religion      194 non-null int64\n",
      "bars          194 non-null int64\n",
      "stripes       194 non-null int64\n",
      "colours       194 non-null int64\n",
      "red           194 non-null int64\n",
      "green         194 non-null int64\n",
      "blue          194 non-null int64\n",
      "gold          194 non-null int64\n",
      "white         194 non-null int64\n",
      "black         194 non-null int64\n",
      "orange        194 non-null int64\n",
      "mainhue       194 non-null object\n",
      "circles       194 non-null int64\n",
      "crosses       194 non-null int64\n",
      "saltires      194 non-null int64\n",
      "quarters      194 non-null int64\n",
      "sunstars      194 non-null int64\n",
      "crescent      194 non-null int64\n",
      "triangle      194 non-null int64\n",
      "icon          194 non-null int64\n",
      "animate       194 non-null int64\n",
      "text          194 non-null int64\n",
      "topleft       194 non-null object\n",
      "botright      194 non-null object\n",
      "dtypes: int64(26), object(4)\n",
      "memory usage: 45.5+ KB\n"
     ]
    }
   ],
   "source": [
    "flags.info()"
   ]
  },
  {
   "cell_type": "code",
   "execution_count": 7,
   "metadata": {},
   "outputs": [
    {
     "data": {
      "text/html": [
       "<div>\n",
       "<style scoped>\n",
       "    .dataframe tbody tr th:only-of-type {\n",
       "        vertical-align: middle;\n",
       "    }\n",
       "\n",
       "    .dataframe tbody tr th {\n",
       "        vertical-align: top;\n",
       "    }\n",
       "\n",
       "    .dataframe thead th {\n",
       "        text-align: right;\n",
       "    }\n",
       "</style>\n",
       "<table border=\"1\" class=\"dataframe\">\n",
       "  <thead>\n",
       "    <tr style=\"text-align: right;\">\n",
       "      <th></th>\n",
       "      <th>landmass</th>\n",
       "      <th>zone</th>\n",
       "      <th>area</th>\n",
       "      <th>population</th>\n",
       "      <th>language</th>\n",
       "      <th>religion</th>\n",
       "      <th>bars</th>\n",
       "      <th>stripes</th>\n",
       "      <th>colours</th>\n",
       "      <th>red</th>\n",
       "      <th>...</th>\n",
       "      <th>circles</th>\n",
       "      <th>crosses</th>\n",
       "      <th>saltires</th>\n",
       "      <th>quarters</th>\n",
       "      <th>sunstars</th>\n",
       "      <th>crescent</th>\n",
       "      <th>triangle</th>\n",
       "      <th>icon</th>\n",
       "      <th>animate</th>\n",
       "      <th>text</th>\n",
       "    </tr>\n",
       "  </thead>\n",
       "  <tbody>\n",
       "    <tr>\n",
       "      <th>count</th>\n",
       "      <td>194.000</td>\n",
       "      <td>194.000</td>\n",
       "      <td>194.000</td>\n",
       "      <td>194.000</td>\n",
       "      <td>194.000</td>\n",
       "      <td>194.000</td>\n",
       "      <td>194.000</td>\n",
       "      <td>194.000</td>\n",
       "      <td>194.000</td>\n",
       "      <td>194.000</td>\n",
       "      <td>...</td>\n",
       "      <td>194.000</td>\n",
       "      <td>194.000</td>\n",
       "      <td>194.000</td>\n",
       "      <td>194.000</td>\n",
       "      <td>194.000</td>\n",
       "      <td>194.000</td>\n",
       "      <td>194.000</td>\n",
       "      <td>194.000</td>\n",
       "      <td>194.000</td>\n",
       "      <td>194.000</td>\n",
       "    </tr>\n",
       "    <tr>\n",
       "      <th>mean</th>\n",
       "      <td>3.572</td>\n",
       "      <td>2.211</td>\n",
       "      <td>700.046</td>\n",
       "      <td>23.268</td>\n",
       "      <td>5.340</td>\n",
       "      <td>2.191</td>\n",
       "      <td>0.454</td>\n",
       "      <td>1.552</td>\n",
       "      <td>3.464</td>\n",
       "      <td>0.789</td>\n",
       "      <td>...</td>\n",
       "      <td>0.170</td>\n",
       "      <td>0.149</td>\n",
       "      <td>0.093</td>\n",
       "      <td>0.149</td>\n",
       "      <td>1.387</td>\n",
       "      <td>0.057</td>\n",
       "      <td>0.139</td>\n",
       "      <td>0.253</td>\n",
       "      <td>0.201</td>\n",
       "      <td>0.082</td>\n",
       "    </tr>\n",
       "    <tr>\n",
       "      <th>std</th>\n",
       "      <td>1.553</td>\n",
       "      <td>1.308</td>\n",
       "      <td>2170.928</td>\n",
       "      <td>91.934</td>\n",
       "      <td>3.497</td>\n",
       "      <td>2.061</td>\n",
       "      <td>1.038</td>\n",
       "      <td>2.328</td>\n",
       "      <td>1.300</td>\n",
       "      <td>0.409</td>\n",
       "      <td>...</td>\n",
       "      <td>0.463</td>\n",
       "      <td>0.385</td>\n",
       "      <td>0.291</td>\n",
       "      <td>0.436</td>\n",
       "      <td>4.396</td>\n",
       "      <td>0.232</td>\n",
       "      <td>0.347</td>\n",
       "      <td>0.436</td>\n",
       "      <td>0.402</td>\n",
       "      <td>0.276</td>\n",
       "    </tr>\n",
       "    <tr>\n",
       "      <th>min</th>\n",
       "      <td>1.000</td>\n",
       "      <td>1.000</td>\n",
       "      <td>0.000</td>\n",
       "      <td>0.000</td>\n",
       "      <td>1.000</td>\n",
       "      <td>0.000</td>\n",
       "      <td>0.000</td>\n",
       "      <td>0.000</td>\n",
       "      <td>1.000</td>\n",
       "      <td>0.000</td>\n",
       "      <td>...</td>\n",
       "      <td>0.000</td>\n",
       "      <td>0.000</td>\n",
       "      <td>0.000</td>\n",
       "      <td>0.000</td>\n",
       "      <td>0.000</td>\n",
       "      <td>0.000</td>\n",
       "      <td>0.000</td>\n",
       "      <td>0.000</td>\n",
       "      <td>0.000</td>\n",
       "      <td>0.000</td>\n",
       "    </tr>\n",
       "    <tr>\n",
       "      <th>25%</th>\n",
       "      <td>3.000</td>\n",
       "      <td>1.000</td>\n",
       "      <td>9.000</td>\n",
       "      <td>0.000</td>\n",
       "      <td>2.000</td>\n",
       "      <td>1.000</td>\n",
       "      <td>0.000</td>\n",
       "      <td>0.000</td>\n",
       "      <td>3.000</td>\n",
       "      <td>1.000</td>\n",
       "      <td>...</td>\n",
       "      <td>0.000</td>\n",
       "      <td>0.000</td>\n",
       "      <td>0.000</td>\n",
       "      <td>0.000</td>\n",
       "      <td>0.000</td>\n",
       "      <td>0.000</td>\n",
       "      <td>0.000</td>\n",
       "      <td>0.000</td>\n",
       "      <td>0.000</td>\n",
       "      <td>0.000</td>\n",
       "    </tr>\n",
       "    <tr>\n",
       "      <th>50%</th>\n",
       "      <td>4.000</td>\n",
       "      <td>2.000</td>\n",
       "      <td>111.000</td>\n",
       "      <td>4.000</td>\n",
       "      <td>6.000</td>\n",
       "      <td>1.000</td>\n",
       "      <td>0.000</td>\n",
       "      <td>0.000</td>\n",
       "      <td>3.000</td>\n",
       "      <td>1.000</td>\n",
       "      <td>...</td>\n",
       "      <td>0.000</td>\n",
       "      <td>0.000</td>\n",
       "      <td>0.000</td>\n",
       "      <td>0.000</td>\n",
       "      <td>0.000</td>\n",
       "      <td>0.000</td>\n",
       "      <td>0.000</td>\n",
       "      <td>0.000</td>\n",
       "      <td>0.000</td>\n",
       "      <td>0.000</td>\n",
       "    </tr>\n",
       "    <tr>\n",
       "      <th>75%</th>\n",
       "      <td>5.000</td>\n",
       "      <td>4.000</td>\n",
       "      <td>471.250</td>\n",
       "      <td>14.000</td>\n",
       "      <td>9.000</td>\n",
       "      <td>4.000</td>\n",
       "      <td>0.000</td>\n",
       "      <td>3.000</td>\n",
       "      <td>4.000</td>\n",
       "      <td>1.000</td>\n",
       "      <td>...</td>\n",
       "      <td>0.000</td>\n",
       "      <td>0.000</td>\n",
       "      <td>0.000</td>\n",
       "      <td>0.000</td>\n",
       "      <td>1.000</td>\n",
       "      <td>0.000</td>\n",
       "      <td>0.000</td>\n",
       "      <td>0.750</td>\n",
       "      <td>0.000</td>\n",
       "      <td>0.000</td>\n",
       "    </tr>\n",
       "    <tr>\n",
       "      <th>max</th>\n",
       "      <td>6.000</td>\n",
       "      <td>4.000</td>\n",
       "      <td>22402.000</td>\n",
       "      <td>1008.000</td>\n",
       "      <td>10.000</td>\n",
       "      <td>7.000</td>\n",
       "      <td>5.000</td>\n",
       "      <td>14.000</td>\n",
       "      <td>8.000</td>\n",
       "      <td>1.000</td>\n",
       "      <td>...</td>\n",
       "      <td>4.000</td>\n",
       "      <td>2.000</td>\n",
       "      <td>1.000</td>\n",
       "      <td>4.000</td>\n",
       "      <td>50.000</td>\n",
       "      <td>1.000</td>\n",
       "      <td>1.000</td>\n",
       "      <td>1.000</td>\n",
       "      <td>1.000</td>\n",
       "      <td>1.000</td>\n",
       "    </tr>\n",
       "  </tbody>\n",
       "</table>\n",
       "<p>8 rows × 26 columns</p>\n",
       "</div>"
      ],
      "text/plain": [
       "       landmass    zone      area  population  language  religion    bars  \\\n",
       "count   194.000 194.000   194.000     194.000   194.000   194.000 194.000   \n",
       "mean      3.572   2.211   700.046      23.268     5.340     2.191   0.454   \n",
       "std       1.553   1.308  2170.928      91.934     3.497     2.061   1.038   \n",
       "min       1.000   1.000     0.000       0.000     1.000     0.000   0.000   \n",
       "25%       3.000   1.000     9.000       0.000     2.000     1.000   0.000   \n",
       "50%       4.000   2.000   111.000       4.000     6.000     1.000   0.000   \n",
       "75%       5.000   4.000   471.250      14.000     9.000     4.000   0.000   \n",
       "max       6.000   4.000 22402.000    1008.000    10.000     7.000   5.000   \n",
       "\n",
       "       stripes  colours     red  ...  circles  crosses  saltires  quarters  \\\n",
       "count  194.000  194.000 194.000  ...  194.000  194.000   194.000   194.000   \n",
       "mean     1.552    3.464   0.789  ...    0.170    0.149     0.093     0.149   \n",
       "std      2.328    1.300   0.409  ...    0.463    0.385     0.291     0.436   \n",
       "min      0.000    1.000   0.000  ...    0.000    0.000     0.000     0.000   \n",
       "25%      0.000    3.000   1.000  ...    0.000    0.000     0.000     0.000   \n",
       "50%      0.000    3.000   1.000  ...    0.000    0.000     0.000     0.000   \n",
       "75%      3.000    4.000   1.000  ...    0.000    0.000     0.000     0.000   \n",
       "max     14.000    8.000   1.000  ...    4.000    2.000     1.000     4.000   \n",
       "\n",
       "       sunstars  crescent  triangle    icon  animate    text  \n",
       "count   194.000   194.000   194.000 194.000  194.000 194.000  \n",
       "mean      1.387     0.057     0.139   0.253    0.201   0.082  \n",
       "std       4.396     0.232     0.347   0.436    0.402   0.276  \n",
       "min       0.000     0.000     0.000   0.000    0.000   0.000  \n",
       "25%       0.000     0.000     0.000   0.000    0.000   0.000  \n",
       "50%       0.000     0.000     0.000   0.000    0.000   0.000  \n",
       "75%       1.000     0.000     0.000   0.750    0.000   0.000  \n",
       "max      50.000     1.000     1.000   1.000    1.000   1.000  \n",
       "\n",
       "[8 rows x 26 columns]"
      ]
     },
     "execution_count": 7,
     "metadata": {},
     "output_type": "execute_result"
    }
   ],
   "source": [
    "flags.describe()"
   ]
  },
  {
   "cell_type": "markdown",
   "metadata": {},
   "source": [
    "### Checking for missing data"
   ]
  },
  {
   "cell_type": "code",
   "execution_count": 8,
   "metadata": {
    "scrolled": false
   },
   "outputs": [
    {
     "data": {
      "text/plain": [
       "name          0\n",
       "landmass      0\n",
       "zone          0\n",
       "area          0\n",
       "population    0\n",
       "language      0\n",
       "religion      0\n",
       "bars          0\n",
       "stripes       0\n",
       "colours       0\n",
       "red           0\n",
       "green         0\n",
       "blue          0\n",
       "gold          0\n",
       "white         0\n",
       "black         0\n",
       "orange        0\n",
       "mainhue       0\n",
       "circles       0\n",
       "crosses       0\n",
       "saltires      0\n",
       "quarters      0\n",
       "sunstars      0\n",
       "crescent      0\n",
       "triangle      0\n",
       "icon          0\n",
       "animate       0\n",
       "text          0\n",
       "topleft       0\n",
       "botright      0\n",
       "dtype: int64"
      ]
     },
     "execution_count": 8,
     "metadata": {},
     "output_type": "execute_result"
    }
   ],
   "source": [
    "flags.isnull().sum()"
   ]
  },
  {
   "cell_type": "markdown",
   "metadata": {},
   "source": [
    "### Converting categorical features that seem like numerical features:"
   ]
  },
  {
   "cell_type": "code",
   "execution_count": 9,
   "metadata": {},
   "outputs": [],
   "source": [
    "categorical_num = ['landmass', 'zone', 'language', 'red', \n",
    "                   'green', 'blue', 'gold', 'white', 'black', \n",
    "                   'orange', 'crescent', 'triangle', 'icon', \n",
    "                   'animate', 'text'] # Numerical features that are actually categorical\n",
    "\n",
    "for feature in categorical_num:\n",
    "    flags[feature] = flags[feature].astype(str)"
   ]
  },
  {
   "cell_type": "markdown",
   "metadata": {},
   "source": [
    "## Visualization"
   ]
  },
  {
   "cell_type": "code",
   "execution_count": 10,
   "metadata": {
    "scrolled": true
   },
   "outputs": [
    {
     "name": "stdout",
     "output_type": "stream",
     "text": [
      "name : ['Afghanistan' 'Albania' 'Algeria' 'American-Samoa' 'Andorra' 'Angola'\n",
      " 'Anguilla' 'Antigua-Barbuda' 'Argentina' 'Argentine' 'Australia'\n",
      " 'Austria' 'Bahamas' 'Bahrain' 'Bangladesh' 'Barbados' 'Belgium' 'Belize'\n",
      " 'Benin' 'Bermuda' 'Bhutan' 'Bolivia' 'Botswana' 'Brazil'\n",
      " 'British-Virgin-Isles' 'Brunei' 'Bulgaria' 'Burkina' 'Burma' 'Burundi'\n",
      " 'Cameroon' 'Canada' 'Cape-Verde-Islands' 'Cayman-Islands'\n",
      " 'Central-African-Republic' 'Chad' 'Chile' 'China' 'Colombia'\n",
      " 'Comorro-Islands' 'Congo' 'Cook-Islands' 'Costa-Rica' 'Cuba' 'Cyprus'\n",
      " 'Czechoslovakia' 'Denmark' 'Djibouti' 'Dominica' 'Dominican-Republic'\n",
      " 'Ecuador' 'Egypt' 'El-Salvador' 'Equatorial-Guinea' 'Ethiopia' 'Faeroes'\n",
      " 'Falklands-Malvinas' 'Fiji' 'Finland' 'France' 'French-Guiana'\n",
      " 'French-Polynesia' 'Gabon' 'Gambia' 'Germany-DDR' 'Germany-FRG' 'Ghana'\n",
      " 'Gibraltar' 'Greece' 'Greenland' 'Grenada' 'Guam' 'Guatemala' 'Guinea'\n",
      " 'Guinea-Bissau' 'Guyana' 'Haiti' 'Honduras' 'Hong-Kong' 'Hungary'\n",
      " 'Iceland' 'India' 'Indonesia' 'Iran' 'Iraq' 'Ireland' 'Israel' 'Italy'\n",
      " 'Ivory-Coast' 'Jamaica' 'Japan' 'Jordan' 'Kampuchea' 'Kenya' 'Kiribati'\n",
      " 'Kuwait' 'Laos' 'Lebanon' 'Lesotho' 'Liberia' 'Libya' 'Liechtenstein'\n",
      " 'Luxembourg' 'Malagasy' 'Malawi' 'Malaysia' 'Maldive-Islands' 'Mali'\n",
      " 'Malta' 'Marianas' 'Mauritania' 'Mauritius' 'Mexico' 'Micronesia'\n",
      " 'Monaco' 'Mongolia' 'Montserrat' 'Morocco' 'Mozambique' 'Nauru' 'Nepal'\n",
      " 'Netherlands' 'Netherlands-Antilles' 'New-Zealand' 'Nicaragua' 'Niger'\n",
      " 'Nigeria' 'Niue' 'North-Korea' 'North-Yemen' 'Norway' 'Oman' 'Pakistan'\n",
      " 'Panama' 'Papua-New-Guinea' 'Parguay' 'Peru' 'Philippines' 'Poland'\n",
      " 'Portugal' 'Puerto-Rico' 'Qatar' 'Romania' 'Rwanda' 'San-Marino'\n",
      " 'Sao-Tome' 'Saudi-Arabia' 'Senegal' 'Seychelles' 'Sierra-Leone'\n",
      " 'Singapore' 'Soloman-Islands' 'Somalia' 'South-Africa' 'South-Korea'\n",
      " 'South-Yemen' 'Spain' 'Sri-Lanka' 'St-Helena' 'St-Kitts-Nevis' 'St-Lucia'\n",
      " 'St-Vincent' 'Sudan' 'Surinam' 'Swaziland' 'Sweden' 'Switzerland' 'Syria'\n",
      " 'Taiwan' 'Tanzania' 'Thailand' 'Togo' 'Tonga' 'Trinidad-Tobago' 'Tunisia'\n",
      " 'Turkey' 'Turks-Cocos-Islands' 'Tuvalu' 'UAE' 'UK' 'US-Virgin-Isles'\n",
      " 'USA' 'USSR' 'Uganda' 'Uruguay' 'Vanuatu' 'Vatican-City' 'Venezuela'\n",
      " 'Vietnam' 'Western-Samoa' 'Yugoslavia' 'Zaire' 'Zambia' 'Zimbabwe']\n",
      "\n",
      "landmass : ['1' '2' '3' '4' '5' '6']\n",
      "\n",
      "zone : ['1' '2' '3' '4']\n",
      "\n",
      "area : [    0     1     2     3     4     5     6     9    10    11    12    15\n",
      "    17    18    19    21    22    23    26    28    29    30    31    36\n",
      "    41    43    47    49    51    57    63    66    70    72    76    84\n",
      "    91    92    93    98    99   103   108   109   111   112   113   115\n",
      "   118   121   128   132   140   143   164   178   181   185   195   196\n",
      "   212   215   236   237   239   245   246   249   256   268   274   284\n",
      "   288   300   301   313   323   324   333   337   342   372   391   407\n",
      "   435   447   450   463   474   505   514   547   583   587   600   623\n",
      "   637   648   678   753   757   781   783   804   905   912   925   945\n",
      "  1001  1031  1099  1139  1221  1222  1240  1247  1267  1284  1285  1566\n",
      "  1648  1760  1904  1973  2150  2176  2388  2506  2777  3268  7690  8512\n",
      "  9363  9561  9976 22402]\n",
      "\n",
      "population : [   0    1    2    3    4    5    6    7    8    9   10   11   12   13\n",
      "   14   15   16   17   18   20   22   24   28   29   31   35   36   38\n",
      "   39   45   47   48   49   54   56   57   60   61   77   84   90  118\n",
      "  119  157  231  274  684 1008]\n",
      "\n",
      "language : ['1' '10' '2' '3' '4' '5' '6' '7' '8' '9']\n",
      "\n",
      "religion : [0 1 2 3 4 5 6 7]\n",
      "\n",
      "bars : [0 1 2 3 5]\n",
      "\n",
      "stripes : [ 0  1  2  3  4  5  6  7  9 11 13 14]\n",
      "\n",
      "colours : [1 2 3 4 5 6 7 8]\n",
      "\n",
      "red : ['0' '1']\n",
      "\n",
      "green : ['0' '1']\n",
      "\n",
      "blue : ['0' '1']\n",
      "\n",
      "gold : ['0' '1']\n",
      "\n",
      "white : ['0' '1']\n",
      "\n",
      "black : ['0' '1']\n",
      "\n",
      "orange : ['0' '1']\n",
      "\n",
      "mainhue : ['black' 'blue' 'brown' 'gold' 'green' 'orange' 'red' 'white']\n",
      "\n",
      "circles : [0 1 2 4]\n",
      "\n",
      "crosses : [0 1 2]\n",
      "\n",
      "saltires : [0 1]\n",
      "\n",
      "quarters : [0 1 4]\n",
      "\n",
      "sunstars : [ 0  1  2  3  4  5  6  7  9 10 14 15 22 50]\n",
      "\n",
      "crescent : ['0' '1']\n",
      "\n",
      "triangle : ['0' '1']\n",
      "\n",
      "icon : ['0' '1']\n",
      "\n",
      "animate : ['0' '1']\n",
      "\n",
      "text : ['0' '1']\n",
      "\n",
      "topleft : ['black' 'blue' 'gold' 'green' 'orange' 'red' 'white']\n",
      "\n",
      "botright : ['black' 'blue' 'brown' 'gold' 'green' 'orange' 'red' 'white']\n",
      "\n"
     ]
    }
   ],
   "source": [
    "for col in flags.columns:\n",
    "    print(col,':',np.unique(flags[col]))\n",
    "    print()"
   ]
  },
  {
   "cell_type": "code",
   "execution_count": 11,
   "metadata": {},
   "outputs": [
    {
     "data": {
      "text/plain": [
       "Text(0.5, 1.0, 'Countries count by religion')"
      ]
     },
     "execution_count": 11,
     "metadata": {},
     "output_type": "execute_result"
    },
    {
     "data": {
      "image/png": "[encoded data removed]",
      "text/plain": [
       "<Figure size 720x576 with 1 Axes>"
      ]
     },
     "metadata": {
      "needs_background": "light"
     },
     "output_type": "display_data"
    }
   ],
   "source": [
    "xticks = list(range(8))\n",
    "religions = ['Catholic', 'Other Christian', 'Muslim', 'Buddhist', 'Hindu','Ethnic', 'Marxist', 'Others']\n",
    "\n",
    "plt.figure(figsize = (10, 8))\n",
    "ax = sns.countplot(flags['religion'])\n",
    "plt.xlabel('Religion', size = 18)\n",
    "plt.ylabel('Count', size = 18)\n",
    "plt.xticks(size = 16)\n",
    "plt.yticks(size = 16)\n",
    "ax.set_xticks(xticks)\n",
    "ax.set_xticklabels(religions, minor=False, rotation = 45)\n",
    "plt.title('Countries count by religion', size = 35)"
   ]
  },
  {
   "cell_type": "code",
   "execution_count": 12,
   "metadata": {
    "scrolled": false
   },
   "outputs": [
    {
     "data": {
      "text/plain": [
       "Text(0.5, 1.0, 'Population vs Area')"
      ]
     },
     "execution_count": 12,
     "metadata": {},
     "output_type": "execute_result"
    },
    {
     "data": {
      "image/png": "[encoded data removed]",
      "text/plain": [
       "<Figure size 720x576 with 1 Axes>"
      ]
     },
     "metadata": {
      "needs_background": "light"
     },
     "output_type": "display_data"
    }
   ],
   "source": [
    "plt.figure(figsize = (10, 8))\n",
    "sns.scatterplot(flags['area'], flags['population'], s = 100)\n",
    "plt.xticks(size = 20)\n",
    "plt.yticks(size = 20)\n",
    "plt.xlabel('Area (thousand square km)', size = 20)\n",
    "plt.ylabel('Population (million)', size = 20)\n",
    "plt.title('Population vs Area', size = 35)"
   ]
  },
  {
   "cell_type": "code",
   "execution_count": 13,
   "metadata": {},
   "outputs": [
    {
     "data": {
      "image/png": "[encoded data removed]",
      "text/plain": [
       "<Figure size 720x576 with 1 Axes>"
      ]
     },
     "metadata": {
      "needs_background": "light"
     },
     "output_type": "display_data"
    }
   ],
   "source": [
    "color = ['red', 'green', 'blue', 'gold', 'white', 'black', 'orange']\n",
    "color_count = []\n",
    "\n",
    "\n",
    "for col in color:\n",
    "    color_count.append(sum(flags[col] == '1'))\n",
    "\n",
    "plt.figure(figsize = (10, 8))\n",
    "plt.bar(color, sorted(color_count, reverse = True), color = color)\n",
    "plt.xticks(size = 17)\n",
    "plt.yticks(size = 17)\n",
    "plt.title('Count of every color present in the flags', size = 20)\n",
    "plt.grid()"
   ]
  },
  {
   "cell_type": "code",
   "execution_count": 14,
   "metadata": {},
   "outputs": [
    {
     "data": {
      "text/plain": [
       "Text(0.5, 1.0, 'Area size of countries by religion')"
      ]
     },
     "execution_count": 14,
     "metadata": {},
     "output_type": "execute_result"
    },
    {
     "data": {
      "image/png": "[encoded data removed]",
      "text/plain": [
       "<Figure size 864x720 with 1 Axes>"
      ]
     },
     "metadata": {
      "needs_background": "light"
     },
     "output_type": "display_data"
    }
   ],
   "source": [
    "xticks = list(range(8))\n",
    "religions = ['Catholic', 'Other Christian', 'Muslim', 'Buddhist', 'Hindu','Ethnic', 'Marxist', 'Others']\n",
    "\n",
    "plt.figure(figsize = (12, 10))\n",
    "plt.grid()\n",
    "ax = sns.barplot(flags['religion'], flags['area'], ci = None)\n",
    "plt.xticks(size = 25)\n",
    "plt.yticks(size = 25)\n",
    "ax.set_xticks(xticks)\n",
    "ax.set_xticklabels(religions, minor = False, rotation = 45)\n",
    "plt.xlabel('Religion', size = 25)\n",
    "plt.ylabel('Area (thousands of square km)', size = 25)\n",
    "plt.title('Area size of countries by religion', size = 30)"
   ]
  },
  {
   "cell_type": "markdown",
   "metadata": {},
   "source": [
    "## Encoding and Scaling"
   ]
  },
  {
   "cell_type": "code",
   "execution_count": 15,
   "metadata": {
    "scrolled": true
   },
   "outputs": [
    {
     "data": {
      "text/plain": [
       "Index(['area', 'population', 'religion', 'bars', 'stripes', 'colours',\n",
       "       'circles', 'crosses', 'saltires', 'quarters', 'sunstars', 'landmass_1',\n",
       "       'landmass_2', 'landmass_3', 'landmass_4', 'landmass_5', 'landmass_6',\n",
       "       'zone_1', 'zone_2', 'zone_3', 'zone_4', 'language_1', 'language_10',\n",
       "       'language_2', 'language_3', 'language_4', 'language_5', 'language_6',\n",
       "       'language_7', 'language_8', 'language_9', 'red_0', 'red_1', 'green_0',\n",
       "       'green_1', 'blue_0', 'blue_1', 'gold_0', 'gold_1', 'white_0', 'white_1',\n",
       "       'black_0', 'black_1', 'orange_0', 'orange_1', 'mainhue_black',\n",
       "       'mainhue_blue', 'mainhue_brown', 'mainhue_gold', 'mainhue_green',\n",
       "       'mainhue_orange', 'mainhue_red', 'mainhue_white', 'crescent_0',\n",
       "       'crescent_1', 'triangle_0', 'triangle_1', 'icon_0', 'icon_1',\n",
       "       'animate_0', 'animate_1', 'text_0', 'text_1', 'topleft_black',\n",
       "       'topleft_blue', 'topleft_gold', 'topleft_green', 'topleft_orange',\n",
       "       'topleft_red', 'topleft_white', 'botright_black', 'botright_blue',\n",
       "       'botright_brown', 'botright_gold', 'botright_green', 'botright_orange',\n",
       "       'botright_red', 'botright_white'],\n",
       "      dtype='object')"
      ]
     },
     "execution_count": 15,
     "metadata": {},
     "output_type": "execute_result"
    }
   ],
   "source": [
    "flags_clean = pd.get_dummies(flags.drop(['name'], axis = 1))\n",
    "flags_clean.columns"
   ]
  },
  {
   "cell_type": "code",
   "execution_count": 16,
   "metadata": {},
   "outputs": [
    {
     "name": "stdout",
     "output_type": "stream",
     "text": [
      "(194, 77)\n",
      "(194,)\n"
     ]
    }
   ],
   "source": [
    "X = flags_clean.drop('religion', axis = 1)\n",
    "y = flags_clean['religion']\n",
    "print(X.shape)\n",
    "print(y.shape)"
   ]
  },
  {
   "cell_type": "code",
   "execution_count": 17,
   "metadata": {},
   "outputs": [],
   "source": [
    "from sklearn.model_selection import train_test_split\n",
    "from sklearn.preprocessing import StandardScaler\n",
    "\n",
    "X_train, X_test, y_train, y_test = train_test_split(X, y, random_state = 42, stratify = y)\n",
    "\n",
    "scaler = StandardScaler()\n",
    "\n",
    "X_train_scaled = scaler.fit_transform(X_train)\n",
    "X_test_scaled = scaler.transform(X_test)"
   ]
  },
  {
   "cell_type": "code",
   "execution_count": 18,
   "metadata": {},
   "outputs": [],
   "source": [
    "# Function for GridSearchCV \n",
    "\n",
    "from sklearn.model_selection import KFold\n",
    "\n",
    "kf = KFold(n_splits = 5, shuffle = True, random_state = 42)\n",
    "\n",
    "def grid_cv(model, params):\n",
    "    '''This function applies GridSearchCV to 'model' across 'kf' folds with all hyperparameters 'params' \n",
    "    and returns the average score out of all folds.\n",
    "    '''\n",
    "    gcv = GridSearchCV(model, cv = kf, param_grid = params)\n",
    "    gcv.fit(X_train_scaled, y_train)\n",
    "    return ('GCV best params:', gcv.best_params_,'GCV best score:', gcv.best_score_,'Test score:',\n",
    "            gcv.score(X_test_scaled, y_test))"
   ]
  },
  {
   "cell_type": "markdown",
   "metadata": {},
   "source": [
    "# Modeling"
   ]
  },
  {
   "cell_type": "markdown",
   "metadata": {},
   "source": [
    "## Logistic Regression"
   ]
  },
  {
   "cell_type": "code",
   "execution_count": 19,
   "metadata": {},
   "outputs": [
    {
     "name": "stdout",
     "output_type": "stream",
     "text": [
      "Cross Val Score: 0.6583077905491699\n",
      "Train score: 0.9862068965517241\n",
      "Test score: 0.5918367346938775\n"
     ]
    }
   ],
   "source": [
    "from sklearn.linear_model import LogisticRegression \n",
    "from sklearn.model_selection import cross_val_score\n",
    "\n",
    "lr = LogisticRegression(random_state = 42)\n",
    "\n",
    "lr_scores = cross_val_score(lr, X_train_scaled, y_train, cv = 5)\n",
    "\n",
    "lr.fit(X_train_scaled, y_train)\n",
    "\n",
    "print('Cross Val Score:', np.mean(lr_scores))\n",
    "print('Train score:',lr.score(X_train_scaled, y_train))\n",
    "print('Test score:',lr.score(X_test_scaled, y_test))"
   ]
  },
  {
   "cell_type": "code",
   "execution_count": 20,
   "metadata": {},
   "outputs": [
    {
     "data": {
      "text/plain": [
       "('GCV best params:',\n",
       " {'C': 0.1},\n",
       " 'GCV best score:',\n",
       " 0.7034482758620689,\n",
       " 'Test score:',\n",
       " 0.673469387755102)"
      ]
     },
     "execution_count": 20,
     "metadata": {},
     "output_type": "execute_result"
    }
   ],
   "source": [
    "from sklearn.model_selection import GridSearchCV\n",
    "\n",
    "lr_params = {'C': [0.001, 0.01, 0.1, 1, 2, 5, 10]}\n",
    "\n",
    "grid_cv(lr, lr_params)"
   ]
  },
  {
   "cell_type": "markdown",
   "metadata": {},
   "source": [
    "## KNN"
   ]
  },
  {
   "cell_type": "code",
   "execution_count": 21,
   "metadata": {},
   "outputs": [
    {
     "name": "stdout",
     "output_type": "stream",
     "text": [
      "Cross Val Score: 0.5811334610472543\n",
      "Train score: 0.7379310344827587\n",
      "Test score: 0.5306122448979592\n"
     ]
    }
   ],
   "source": [
    "from sklearn.neighbors import KNeighborsClassifier\n",
    "\n",
    "knn = KNeighborsClassifier()\n",
    "\n",
    "knn_scores = cross_val_score(knn, X_train_scaled, y_train, cv = 5)\n",
    "\n",
    "knn.fit(X_train_scaled, y_train)\n",
    "\n",
    "print('Cross Val Score:', np.mean(knn_scores))\n",
    "print('Train score:',knn.score(X_train_scaled, y_train))\n",
    "print('Test score:',knn.score(X_test_scaled, y_test))"
   ]
  },
  {
   "cell_type": "code",
   "execution_count": 22,
   "metadata": {},
   "outputs": [
    {
     "data": {
      "text/plain": [
       "('GCV best params:',\n",
       " {'n_neighbors': 11},\n",
       " 'GCV best score:',\n",
       " 0.5655172413793104,\n",
       " 'Test score:',\n",
       " 0.42857142857142855)"
      ]
     },
     "execution_count": 22,
     "metadata": {},
     "output_type": "execute_result"
    }
   ],
   "source": [
    "knn_params = {'n_neighbors': [1, 3, 5, 7, 9, 11]}\n",
    "\n",
    "grid_cv(knn, knn_params)"
   ]
  },
  {
   "cell_type": "markdown",
   "metadata": {},
   "source": [
    "## SVC"
   ]
  },
  {
   "cell_type": "code",
   "execution_count": 23,
   "metadata": {},
   "outputs": [
    {
     "name": "stdout",
     "output_type": "stream",
     "text": [
      "Cross Val Score: 0.5875702426564495\n",
      "Train score: 0.9172413793103448\n",
      "Test score: 0.5714285714285714\n"
     ]
    }
   ],
   "source": [
    "from sklearn.svm import SVC\n",
    "\n",
    "svc = SVC(class_weight = 'balanced')\n",
    "\n",
    "svc_scores = cross_val_score(svc, X_train_scaled, y_train, cv = 5)\n",
    "svc.fit(X_train_scaled, y_train)\n",
    "\n",
    "print('Cross Val Score:', np.mean(svc_scores))\n",
    "print('Train score:',svc.score(X_train_scaled, y_train))\n",
    "print('Test score:',svc.score(X_test_scaled, y_test))"
   ]
  },
  {
   "cell_type": "code",
   "execution_count": 24,
   "metadata": {},
   "outputs": [
    {
     "data": {
      "text/plain": [
       "('GCV best params:',\n",
       " {'C': 5, 'degree': 3},\n",
       " 'GCV best score:',\n",
       " 0.6068965517241379,\n",
       " 'Test score:',\n",
       " 0.5918367346938775)"
      ]
     },
     "execution_count": 24,
     "metadata": {},
     "output_type": "execute_result"
    }
   ],
   "source": [
    "svc_params = {'C': [0.001, 0.01, 0.1, 1, 2, 5, 10, 20], 'degree': [3, 4, 5]}\n",
    "\n",
    "grid_cv(svc, svc_params)"
   ]
  },
  {
   "cell_type": "markdown",
   "metadata": {},
   "source": [
    "## Naive Bayes"
   ]
  },
  {
   "cell_type": "code",
   "execution_count": 25,
   "metadata": {},
   "outputs": [
    {
     "name": "stdout",
     "output_type": "stream",
     "text": [
      "Cross Val Score: 0.5621551724137931\n",
      "Train score: 0.7931034482758621\n",
      "Test score: 0.5714285714285714\n"
     ]
    }
   ],
   "source": [
    "from sklearn.naive_bayes import GaussianNB\n",
    "\n",
    "nb = GaussianNB()\n",
    "\n",
    "nb_scores = cross_val_score(nb, X_train_scaled, y_train, cv = 5)\n",
    "nb.fit(X_train_scaled, y_train)\n",
    "\n",
    "print('Cross Val Score:', np.mean(nb_scores))\n",
    "print('Train score:',nb.score(X_train_scaled, y_train))\n",
    "print('Test score:',nb.score(X_test_scaled, y_test))"
   ]
  },
  {
   "cell_type": "markdown",
   "metadata": {},
   "source": [
    "## Decision Tree"
   ]
  },
  {
   "cell_type": "code",
   "execution_count": 26,
   "metadata": {},
   "outputs": [
    {
     "name": "stdout",
     "output_type": "stream",
     "text": [
      "Cross Val Score: 0.5817800127713921\n",
      "Train score: 1.0\n",
      "Test score: 0.5510204081632653\n"
     ]
    }
   ],
   "source": [
    "from sklearn.tree import DecisionTreeClassifier\n",
    "\n",
    "dt = DecisionTreeClassifier(class_weight = 'balanced')\n",
    "\n",
    "dt_scores = cross_val_score(dt, X_train_scaled, y_train, cv = 5)\n",
    "\n",
    "dt.fit(X_train_scaled, y_train)\n",
    "\n",
    "print('Cross Val Score:', np.mean(dt_scores))\n",
    "print('Train score:',dt.score(X_train_scaled, y_train))\n",
    "print('Test score:',dt.score(X_test_scaled, y_test))"
   ]
  },
  {
   "cell_type": "code",
   "execution_count": 27,
   "metadata": {
    "scrolled": true
   },
   "outputs": [
    {
     "data": {
      "text/plain": [
       "('GCV best params:',\n",
       " {'criterion': 'gini',\n",
       "  'max_depth': 7,\n",
       "  'max_features': 7,\n",
       "  'min_samples_split': 7},\n",
       " 'GCV best score:',\n",
       " 0.5172413793103449,\n",
       " 'Test score:',\n",
       " 0.4897959183673469)"
      ]
     },
     "execution_count": 27,
     "metadata": {},
     "output_type": "execute_result"
    }
   ],
   "source": [
    "dt_params = {'criterion': ['gini', 'entropy'],\n",
    "             'max_depth': [5, 7, 9, 11],\n",
    "             'min_samples_split': [5, 6, 7],\n",
    "             'max_features': [5, 7, 9]}\n",
    "\n",
    "grid_cv(dt, dt_params)"
   ]
  },
  {
   "cell_type": "markdown",
   "metadata": {},
   "source": [
    "### Random Forest"
   ]
  },
  {
   "cell_type": "code",
   "execution_count": 28,
   "metadata": {},
   "outputs": [
    {
     "name": "stdout",
     "output_type": "stream",
     "text": [
      "Cross Val Score: 0.5987212643678161\n",
      "Train score: 0.993103448275862\n",
      "Test score: 0.6530612244897959\n"
     ]
    }
   ],
   "source": [
    "from sklearn.ensemble import RandomForestClassifier\n",
    "\n",
    "rf = RandomForestClassifier(random_state = 42, class_weight = 'balanced')\n",
    "\n",
    "rf_scores = cross_val_score(rf, X_train_scaled, y_train, cv = 5)\n",
    "\n",
    "rf.fit(X_train_scaled, y_train)\n",
    "\n",
    "print('Cross Val Score:', np.mean(rf_scores))\n",
    "print('Train score:',rf.score(X_train_scaled, y_train))\n",
    "print('Test score:',rf.score(X_test_scaled, y_test))"
   ]
  },
  {
   "cell_type": "code",
   "execution_count": 29,
   "metadata": {},
   "outputs": [
    {
     "name": "stdout",
     "output_type": "stream",
     "text": [
      "GSCV best score: 0.696551724137931\n",
      "Train score: 0.9655172413793104\n",
      "Test score: 0.6938775510204082\n",
      "\n",
      "Best params: {'max_features': 9, 'n_estimators': 100, 'criterion': 'entropy', 'max_depth': 7, 'min_samples_split': 5}\n"
     ]
    }
   ],
   "source": [
    "rf_params_1 = {'n_estimators': [10, 20, 50, 100], 'max_features': [5, 7, 9]}\n",
    "\n",
    "rf_grid = GridSearchCV(rf, param_grid = rf_params_1, cv = 5, n_jobs = -1)\n",
    "\n",
    "rf_grid.fit(X_train_scaled, y_train)\n",
    "\n",
    "rf_params_2 = {'min_samples_split': [5, 7, 9], 'max_depth': [7, 9, 11], 'criterion': ['gini', 'entropy']}\n",
    "\n",
    "rf_grid_2 = GridSearchCV(rf_grid.best_estimator_, param_grid = rf_params_2, cv = 5, n_jobs = -1)\n",
    "\n",
    "rf_grid_2.fit(X_train_scaled, y_train)\n",
    "\n",
    "print('GSCV best score:',rf_grid_2.best_score_)\n",
    "print('Train score:', rf_grid_2.score(X_train_scaled, y_train))\n",
    "print('Test score:', rf_grid_2.score(X_test_scaled, y_test))\n",
    "print()\n",
    "rf_grid.best_params_.update(rf_grid_2.best_params_)\n",
    "print('Best params:', rf_grid.best_params_)"
   ]
  },
  {
   "cell_type": "code",
   "execution_count": 30,
   "metadata": {},
   "outputs": [
    {
     "data": {
      "text/plain": [
       "(array([ 0,  1,  2,  3,  4,  5,  6,  7,  8,  9, 10, 11, 12, 13, 14, 15, 16,\n",
       "        17, 18, 19, 20, 21, 22, 23, 24, 25, 26, 27, 28, 29, 30, 31, 32, 33,\n",
       "        34, 35, 36, 37, 38, 39, 40, 41, 42, 43, 44, 45, 46, 47, 48, 49, 50,\n",
       "        51, 52, 53, 54, 55, 56, 57, 58, 59, 60, 61, 62, 63, 64, 65, 66, 67,\n",
       "        68, 69, 70, 71, 72, 73, 74, 75, 76]),\n",
       " <a list of 77 Text xticklabel objects>)"
      ]
     },
     "execution_count": 30,
     "metadata": {},
     "output_type": "execute_result"
    },
    {
     "data": {
      "image/png": "[encoded data removed]",
      "text/plain": [
       "<Figure size 1080x576 with 1 Axes>"
      ]
     },
     "metadata": {
      "needs_background": "light"
     },
     "output_type": "display_data"
    }
   ],
   "source": [
    "rf_importances  = rf_grid_2.best_estimator_.feature_importances_\n",
    "rf_features = X.columns\n",
    "\n",
    "feat_importances = sorted(list(zip(rf_features, rf_importances)), key=lambda x:x[1], reverse=True)\n",
    "\n",
    "import seaborn as sns\n",
    "\n",
    "plt.figure(figsize=(15,8))\n",
    "sns.barplot([a[0] for a in feat_importances], [b[1] for b in feat_importances])\n",
    "plt.xticks(rotation=90)"
   ]
  },
  {
   "cell_type": "markdown",
   "metadata": {},
   "source": [
    "### Gradient Boosting"
   ]
  },
  {
   "cell_type": "code",
   "execution_count": 31,
   "metadata": {},
   "outputs": [
    {
     "name": "stdout",
     "output_type": "stream",
     "text": [
      "Cross Val Score: 0.6540948275862069\n",
      "Train score: 1.0\n",
      "Test score: 0.6326530612244898\n"
     ]
    }
   ],
   "source": [
    "from sklearn.ensemble import GradientBoostingClassifier\n",
    "\n",
    "gb = GradientBoostingClassifier(random_state = 42)\n",
    "\n",
    "gb_scores = cross_val_score(gb, X_train_scaled, y_train, cv = 5)\n",
    "\n",
    "gb.fit(X_train_scaled, y_train)\n",
    "\n",
    "print('Cross Val Score:', np.mean(gb_scores))\n",
    "print('Train score:',gb.score(X_train_scaled, y_train))\n",
    "print('Test score:',gb.score(X_test_scaled, y_test))"
   ]
  },
  {
   "cell_type": "code",
   "execution_count": 32,
   "metadata": {
    "scrolled": false
   },
   "outputs": [
    {
     "name": "stdout",
     "output_type": "stream",
     "text": [
      "GSCV best score: 0.7172413793103448\n",
      "Train score: 1.0\n",
      "Test score: 0.6530612244897959\n",
      "\n",
      "Best params: {'learning_rate': 0.3, 'max_features': 9, 'n_estimators': 50, 'max_depth': 9, 'min_samples_leaf': 3, 'min_samples_split': 9}\n"
     ]
    }
   ],
   "source": [
    "gb_params_1 = {'n_estimators': [50, 100, 150, 200], \n",
    "               'learning_rate': [0.1, 0.2, 0.3, 0.4, 0.5], \n",
    "               'max_features': [5, 7, 9]}\n",
    "    \n",
    "gb_grid = GridSearchCV(gb, param_grid = gb_params_1, cv = 5, n_jobs = -1)\n",
    "\n",
    "gb_grid.fit(X_train_scaled, y_train)\n",
    "\n",
    "gb_params_2 = {'min_samples_split': [5, 7, 9], \n",
    "               'min_samples_leaf': [3, 5, 7], \n",
    "               'max_depth': [7, 9, 11]}\n",
    "\n",
    "gb_grid_2 = GridSearchCV(gb_grid.best_estimator_, param_grid = gb_params_2, cv = 5, n_jobs = -1)\n",
    "\n",
    "gb_grid_2.fit(X_train_scaled, y_train)\n",
    "\n",
    "print('GSCV best score:',gb_grid_2.best_score_)\n",
    "print('Train score:', gb_grid_2.score(X_train_scaled, y_train))\n",
    "print('Test score:', gb_grid_2.score(X_test_scaled, y_test))\n",
    "print()\n",
    "gb_grid.best_params_.update(gb_grid_2.best_params_)\n",
    "print('Best params:', gb_grid.best_params_)"
   ]
  },
  {
   "cell_type": "code",
   "execution_count": 33,
   "metadata": {},
   "outputs": [
    {
     "data": {
      "text/plain": [
       "(array([ 0,  1,  2,  3,  4,  5,  6,  7,  8,  9, 10, 11, 12, 13, 14, 15, 16,\n",
       "        17, 18, 19, 20, 21, 22, 23, 24, 25, 26, 27, 28, 29, 30, 31, 32, 33,\n",
       "        34, 35, 36, 37, 38, 39, 40, 41, 42, 43, 44, 45, 46, 47, 48, 49, 50,\n",
       "        51, 52, 53, 54, 55, 56, 57, 58, 59, 60, 61, 62, 63, 64, 65, 66, 67,\n",
       "        68, 69, 70, 71, 72, 73, 74, 75, 76]),\n",
       " <a list of 77 Text xticklabel objects>)"
      ]
     },
     "execution_count": 33,
     "metadata": {},
     "output_type": "execute_result"
    },
    {
     "data": {
      "image/png": "[encoded data removed]",
      "text/plain": [
       "<Figure size 1080x576 with 1 Axes>"
      ]
     },
     "metadata": {
      "needs_background": "light"
     },
     "output_type": "display_data"
    }
   ],
   "source": [
    "gb_importances  = gb_grid_2.best_estimator_.feature_importances_\n",
    "gb_features = X.columns\n",
    "\n",
    "feat_importances_gb = sorted(list(zip(gb_features, gb_importances)), key=lambda x:x[1], reverse=True)\n",
    "\n",
    "import seaborn as sns\n",
    "\n",
    "plt.figure(figsize=(15,8))\n",
    "sns.barplot([a[0] for a in feat_importances_gb], [b[1] for b in feat_importances_gb])\n",
    "plt.xticks(rotation=90)"
   ]
  },
  {
   "cell_type": "code",
   "execution_count": 34,
   "metadata": {},
   "outputs": [
    {
     "data": {
      "text/plain": [
       "array([[ 9,  1,  0,  0,  0,  0,  2,  0],\n",
       "       [ 1, 14,  1,  0,  1,  2,  0,  0],\n",
       "       [ 0,  0,  4,  0,  0,  1,  0,  0],\n",
       "       [ 0,  0,  1,  1,  0,  0,  2,  0],\n",
       "       [ 0,  0,  0,  0,  0,  0,  0,  0],\n",
       "       [ 0,  0,  3,  0,  0,  4,  0,  1],\n",
       "       [ 0,  0,  0,  1,  0,  0,  0,  0],\n",
       "       [ 0,  0,  0,  0,  0,  0,  0,  0]])"
      ]
     },
     "execution_count": 34,
     "metadata": {},
     "output_type": "execute_result"
    }
   ],
   "source": [
    "from sklearn.metrics import confusion_matrix\n",
    "\n",
    "gb_pred = gb_grid_2.predict(X_test_scaled)\n",
    "\n",
    "confusion_matrix(gb_pred, y_test)"
   ]
  },
  {
   "cell_type": "code",
   "execution_count": 35,
   "metadata": {},
   "outputs": [
    {
     "data": {
      "image/png": "[encoded data removed]",
      "text/plain": [
       "<Figure size 288x288 with 2 Axes>"
      ]
     },
     "metadata": {
      "needs_background": "light"
     },
     "output_type": "display_data"
    }
   ],
   "source": [
    "plt.matshow(confusion_matrix(y_test, gb_pred), cmap=\"Blues\")\n",
    "plt.colorbar(shrink=0.8)\n",
    "plt.xticks(range(8))\n",
    "plt.yticks(range(8))\n",
    "plt.xlabel(\"Predicted label\")\n",
    "plt.ylabel(\"True label\");"
   ]
  },
  {
   "cell_type": "code",
   "execution_count": 36,
   "metadata": {},
   "outputs": [
    {
     "data": {
      "text/plain": [
       "1    15\n",
       "0    10\n",
       "2     9\n",
       "5     7\n",
       "6     4\n",
       "3     2\n",
       "7     1\n",
       "4     1\n",
       "Name: religion, dtype: int64"
      ]
     },
     "execution_count": 36,
     "metadata": {},
     "output_type": "execute_result"
    }
   ],
   "source": [
    "y_test.value_counts()"
   ]
  },
  {
   "cell_type": "code",
   "execution_count": 37,
   "metadata": {
    "scrolled": true
   },
   "outputs": [
    {
     "data": {
      "text/plain": [
       "(array([0, 1, 2, 3, 5, 6]), array([12, 19,  5,  4,  8,  1]))"
      ]
     },
     "execution_count": 37,
     "metadata": {},
     "output_type": "execute_result"
    }
   ],
   "source": [
    "np.unique(gb_pred, return_counts = True)"
   ]
  },
  {
   "cell_type": "markdown",
   "metadata": {},
   "source": [
    "#### Conclusions\n",
    "\n",
    "- The model predicted '1' best because there's many observations in test set, but did not predict '7' since there's only one observation in the test set\n",
    "- The higher the observation of the class, the better the model's prediction of that class\n",
    "- It's bad to predict religion based on flags because some countries design flags based on religion but not others"
   ]
  },
  {
   "cell_type": "markdown",
   "metadata": {},
   "source": [
    "# Score Summary (GridSearchCV)"
   ]
  },
  {
   "cell_type": "code",
   "execution_count": 40,
   "metadata": {
    "scrolled": false
   },
   "outputs": [
    {
     "name": "stdout",
     "output_type": "stream",
     "text": [
      "Grid Search CV\n",
      "\n",
      "Logistic Regression:\n",
      "\n",
      "('GCV best params:', {'C': 0.1}, 'GCV best score:', 0.7034482758620689, 'Test score:', 0.673469387755102) \n",
      "\n",
      "\n",
      "KNN:\n",
      "\n",
      "('GCV best params:', {'n_neighbors': 11}, 'GCV best score:', 0.5655172413793104, 'Test score:', 0.42857142857142855) \n",
      "\n",
      "\n",
      "SVC:\n",
      "\n",
      "('GCV best params:', {'C': 5, 'degree': 3}, 'GCV best score:', 0.6068965517241379, 'Test score:', 0.5918367346938775) \n",
      "\n",
      "\n",
      "Decision Tree:\n",
      "\n",
      "('GCV best params:', {'criterion': 'gini', 'max_depth': 7, 'max_features': 9, 'min_samples_split': 6}, 'GCV best score:', 0.5448275862068965, 'Test score:', 0.40816326530612246) \n",
      "\n",
      "\n",
      "Random Forest:\n",
      "\n",
      "Best params: {'max_features': 9, 'n_estimators': 100, 'criterion': 'entropy', 'max_depth': 7, 'min_samples_split': 5}\n",
      "GSCV best score: 0.696551724137931\n",
      "Test score: 0.6938775510204082\n",
      "\n",
      "\n",
      "\n",
      "Gradient Boosting:\n",
      "\n",
      "Best params: {'learning_rate': 0.3, 'max_features': 9, 'n_estimators': 50, 'max_depth': 9, 'min_samples_leaf': 3, 'min_samples_split': 9}\n",
      "GSCV best score: 0.7172413793103448\n",
      "Test score: 0.6530612244897959\n"
     ]
    }
   ],
   "source": [
    "print('Grid Search CV\\n')\n",
    "print('Logistic Regression:\\n')\n",
    "print(grid_cv(lr, lr_params), '\\n\\n')\n",
    "print('KNN:\\n')\n",
    "print(grid_cv(knn, knn_params), '\\n\\n')\n",
    "print('SVC:\\n')\n",
    "print(grid_cv(svc, svc_params), '\\n\\n')\n",
    "print('Decision Tree:\\n')\n",
    "print(grid_cv(dt, dt_params), '\\n\\n')\n",
    "print('Random Forest:\\n')\n",
    "print('Best params:', rf_grid.best_params_)\n",
    "print('GSCV best score:',rf_grid_2.best_score_)\n",
    "print('Test score:', rf_grid_2.score(X_test_scaled, y_test))\n",
    "print('\\n\\n')\n",
    "print('Gradient Boosting:\\n')\n",
    "print('Best params:', gb_grid.best_params_)\n",
    "print('GSCV best score:',gb_grid_2.best_score_)\n",
    "print('Test score:', gb_grid_2.score(X_test_scaled, y_test))"
   ]
  },
  {
   "cell_type": "code",
   "execution_count": null,
   "metadata": {},
   "outputs": [],
   "source": []
  }
 ],
 "metadata": {
  "kernelspec": {
   "display_name": "Python 3",
   "language": "python",
   "name": "python3"
  },
  "language_info": {
   "codemirror_mode": {
    "name": "ipython",
    "version": 3
   },
   "file_extension": ".py",
   "mimetype": "text/x-python",
   "name": "python",
   "nbconvert_exporter": "python",
   "pygments_lexer": "ipython3",
   "version": "3.7.3"
  }
 },
 "nbformat": 4,
 "nbformat_minor": 2
}
