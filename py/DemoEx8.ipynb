{
 "cells": [
  {
   "cell_type": "code",
   "execution_count": 1,
   "metadata": {},
   "outputs": [],
   "source": [
    "#import thu vien\n",
    "import numpy as np\n",
    "import pandas as pd"
   ]
  },
  {
   "cell_type": "code",
   "execution_count": 2,
   "metadata": {},
   "outputs": [],
   "source": [
    "data = pd.read_csv(\"../dataset/flag.csv\")"
   ]
  },
  {
   "cell_type": "code",
   "execution_count": 3,
   "metadata": {},
   "outputs": [],
   "source": [
    "categorical_num = ['landmass', 'zone', 'language', 'red', \n",
    "                   'green', 'blue', 'gold', 'white', 'black', \n",
    "                   'orange', 'crescent', 'triangle', 'icon', \n",
    "                   'animate', 'text'] \n",
    "\n",
    "for feature in categorical_num:\n",
    "    data[feature] = data[feature].astype(str)"
   ]
  },
  {
   "cell_type": "code",
   "execution_count": 4,
   "metadata": {},
   "outputs": [
    {
     "data": {
      "text/plain": [
       "Index(['area', 'population', 'religion', 'bars', 'stripes', 'colours',\n",
       "       'circles', 'crosses', 'saltires', 'quarters', 'sunstars', 'landmass_1',\n",
       "       'landmass_2', 'landmass_3', 'landmass_4', 'landmass_5', 'landmass_6',\n",
       "       'zone_1', 'zone_2', 'zone_3', 'zone_4', 'language_1', 'language_10',\n",
       "       'language_2', 'language_3', 'language_4', 'language_5', 'language_6',\n",
       "       'language_7', 'language_8', 'language_9', 'red_0', 'red_1', 'green_0',\n",
       "       'green_1', 'blue_0', 'blue_1', 'gold_0', 'gold_1', 'white_0', 'white_1',\n",
       "       'black_0', 'black_1', 'orange_0', 'orange_1', 'mainhue_black',\n",
       "       'mainhue_blue', 'mainhue_brown', 'mainhue_gold', 'mainhue_green',\n",
       "       'mainhue_orange', 'mainhue_red', 'mainhue_white', 'crescent_0',\n",
       "       'crescent_1', 'triangle_0', 'triangle_1', 'icon_0', 'icon_1',\n",
       "       'animate_0', 'animate_1', 'text_0', 'text_1', 'topleft_black',\n",
       "       'topleft_blue', 'topleft_gold', 'topleft_green', 'topleft_orange',\n",
       "       'topleft_red', 'topleft_white', 'botright_black', 'botright_blue',\n",
       "       'botright_brown', 'botright_gold', 'botright_green', 'botright_orange',\n",
       "       'botright_red', 'botright_white'],\n",
       "      dtype='object')"
      ]
     },
     "execution_count": 4,
     "metadata": {},
     "output_type": "execute_result"
    }
   ],
   "source": [
    "data_clean = pd.get_dummies(data.drop(['name'], axis = 1))\n",
    "data_clean.columns"
   ]
  },
  {
   "cell_type": "code",
   "execution_count": 5,
   "metadata": {},
   "outputs": [],
   "source": [
    "X = data_clean.drop('religion', axis = 1)\n",
    "y = data_clean['religion']"
   ]
  },
  {
   "cell_type": "code",
   "execution_count": 6,
   "metadata": {},
   "outputs": [],
   "source": [
    "from sklearn.model_selection import train_test_split\n",
    "from sklearn.preprocessing import StandardScaler\n",
    "\n",
    "X_train, X_test, y_train, y_test = train_test_split(X, y, random_state = 42, stratify = y)\n",
    "\n",
    "scaler = StandardScaler()\n",
    "\n",
    "X_train_scaled = scaler.fit_transform(X_train)\n",
    "X_test_scaled = scaler.transform(X_test)"
   ]
  },
  {
   "cell_type": "code",
   "execution_count": 7,
   "metadata": {},
   "outputs": [],
   "source": [
    "#Importing MLPClassifier\n",
    "from sklearn.neural_network import MLPClassifier\n",
    "\n",
    "#Initializing the MLPClassifier\n",
    "classifier_1 = MLPClassifier(hidden_layer_sizes=(150,100,50), max_iter=300,activation = 'relu',solver='adam',random_state=1)\n",
    "classifier_2 = MLPClassifier(hidden_layer_sizes=(150,100,50), max_iter=300,activation = 'relu',solver='adam',random_state=1, early_stopping=True)"
   ]
  },
  {
   "cell_type": "code",
   "execution_count": 8,
   "metadata": {},
   "outputs": [
    {
     "data": {
      "text/plain": [
       "MLPClassifier(activation='relu', alpha=0.0001, batch_size='auto', beta_1=0.9,\n",
       "              beta_2=0.999, early_stopping=True, epsilon=1e-08,\n",
       "              hidden_layer_sizes=(150, 100, 50), learning_rate='constant',\n",
       "              learning_rate_init=0.001, max_fun=15000, max_iter=300,\n",
       "              momentum=0.9, n_iter_no_change=10, nesterovs_momentum=True,\n",
       "              power_t=0.5, random_state=1, shuffle=True, solver='adam',\n",
       "              tol=0.0001, validation_fraction=0.1, verbose=False,\n",
       "              warm_start=False)"
      ]
     },
     "execution_count": 8,
     "metadata": {},
     "output_type": "execute_result"
    }
   ],
   "source": [
    "#Fitting the training data to the network\n",
    "classifier_1.fit(X_train, y_train)\n",
    "classifier_2.fit(X_train, y_train)"
   ]
  },
  {
   "cell_type": "code",
   "execution_count": 9,
   "metadata": {},
   "outputs": [],
   "source": [
    "#Predicting y for X_val\n",
    "y_pred_1 = classifier_1.predict(X_test)\n",
    "y_pred_2 = classifier_2.predict(X_test)"
   ]
  },
  {
   "cell_type": "code",
   "execution_count": 10,
   "metadata": {},
   "outputs": [
    {
     "name": "stdout",
     "output_type": "stream",
     "text": [
      "Accuracy of MLPClassifier 1:  0.3673469387755102\n",
      "Accuracy of MLPClassifier 2:  0.3469387755102041\n"
     ]
    }
   ],
   "source": [
    "from sklearn.metrics import confusion_matrix\n",
    "from sklearn.metrics import accuracy_score\n",
    "# #Comparing the predictions against the actual observations in y_val\n",
    "# result_1 = confusion_matrix(y_pred_1, y_test)\n",
    "# result_2\n",
    "\n",
    "#Printing the accuracy\n",
    "print(\"Accuracy of MLPClassifier 1: \", accuracy_score(y_test, y_pred_1))\n",
    "print(\"Accuracy of MLPClassifier 2: \", accuracy_score(y_test, y_pred_2))"
   ]
  },
  {
   "cell_type": "code",
   "execution_count": null,
   "metadata": {},
   "outputs": [],
   "source": []
  },
  {
   "cell_type": "code",
   "execution_count": null,
   "metadata": {},
   "outputs": [],
   "source": []
  }
 ],
 "metadata": {
  "kernelspec": {
   "display_name": "Python 3",
   "language": "python",
   "name": "python3"
  },
  "language_info": {
   "codemirror_mode": {
    "name": "ipython",
    "version": 3
   },
   "file_extension": ".py",
   "mimetype": "text/x-python",
   "name": "python",
   "nbconvert_exporter": "python",
   "pygments_lexer": "ipython3",
   "version": "3.7.6"
  }
 },
 "nbformat": 4,
 "nbformat_minor": 4
}
